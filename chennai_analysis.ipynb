{
 "cells": [
  {
   "cell_type": "code",
   "execution_count": 106,
   "metadata": {},
   "outputs": [],
   "source": [
    "import pandas as pd\n",
    "import numpy as np\n",
    "import matplotlib.pyplot as plt"
   ]
  },
  {
   "cell_type": "code",
   "execution_count": 107,
   "metadata": {},
   "outputs": [
    {
     "name": "stdout",
     "output_type": "stream",
     "text": [
      "Zomato URL                  0\n",
      "Name of Restaurant          0\n",
      "Address                     0\n",
      "Location                    0\n",
      "Cuisine                     0\n",
      "Top Dishes               9641\n",
      "Price for 2                 0\n",
      "Dining Rating            5351\n",
      "Dining Rating Count      5351\n",
      "Delivery Rating          5851\n",
      "Delivery Rating Count    5851\n",
      "Features                    0\n",
      "dtype: int64\n"
     ]
    },
    {
     "data": {
      "image/png": "[encoded data removed]",
      "text/plain": [
       "<Figure size 432x288 with 1 Axes>"
      ]
     },
     "metadata": {
      "needs_background": "light"
     },
     "output_type": "display_data"
    }
   ],
   "source": [
    "na_value = [\"None\",\"Does not offer Dining\",\"Does not offer Delivery\", \"Not enough Delivery Reviews\", \"Not enough Dining Reviews\",\"Invalid\"]\n",
    "data = pd.read_csv('chennai resturant\\Zomato Chennai Listing 2020.csv',na_values=na_value)\n",
    "data_missing = data.isnull().sum()\n",
    "data_missing.plot.bar()\n",
    "print(data_missing)\n"
   ]
  },
  {
   "cell_type": "code",
   "execution_count": 108,
   "metadata": {},
   "outputs": [
    {
     "name": "stdout",
     "output_type": "stream",
     "text": [
      "Name of Restaurant          0\n",
      "Location                    0\n",
      "Cuisine                     0\n",
      "Price for 2                 0\n",
      "Dining Rating            5351\n",
      "Dining Rating Count      5351\n",
      "Delivery Rating          5851\n",
      "Delivery Rating Count    5851\n",
      "Features                    0\n",
      "dtype: int64\n"
     ]
    }
   ],
   "source": [
    "del data['Zomato URL']\n",
    "del data['Top Dishes']\n",
    "del data['Address']\n",
    "# print(data)\n",
    "print(data.isnull().sum())"
   ]
  },
  {
   "cell_type": "code",
   "execution_count": 109,
   "metadata": {},
   "outputs": [
    {
     "name": "stdout",
     "output_type": "stream",
     "text": [
      "Name of Restaurant       0\n",
      "Location                 0\n",
      "Cuisine                  0\n",
      "Price for 2              0\n",
      "Dining Rating            0\n",
      "Dining Rating Count      0\n",
      "Delivery Rating          0\n",
      "Delivery Rating Count    0\n",
      "Features                 0\n",
      "dtype: int64\n"
     ]
    }
   ],
   "source": [
    "data = data.dropna()\n",
    "# print(data)\n",
    "print(data.isnull().sum())"
   ]
  },
  {
   "cell_type": "code",
   "execution_count": 110,
   "metadata": {},
   "outputs": [
    {
     "name": "stdout",
     "output_type": "stream",
     "text": [
      "[[2]\n",
      " [4]\n",
      " [2]\n",
      " ...\n",
      " [2]\n",
      " [2]\n",
      " [2]]\n"
     ]
    }
   ],
   "source": [
    "feature = data.iloc[:,8].values\n",
    "# print(feature)\n",
    "feature_count = []\n",
    "len_feature = len(feature)\n",
    "\n",
    "for i in range(len_feature):\n",
    "    feature[i] = feature[i].split(',')\n",
    "\n",
    "for i in range(len_feature):\n",
    "    feature_count.append(len(feature[i]))\n",
    "\n",
    "feature_cnt = np.array(feature_count)\n",
    "feature_cnt = feature_cnt.reshape(feature_cnt.shape[0],1)\n",
    "print(feature_cnt)"
   ]
  },
  {
   "cell_type": "code",
   "execution_count": 111,
   "metadata": {},
   "outputs": [
    {
     "name": "stdout",
     "output_type": "stream",
     "text": [
      "[[1]\n",
      " [5]\n",
      " [4]\n",
      " ...\n",
      " [4]\n",
      " [3]\n",
      " [2]]\n"
     ]
    }
   ],
   "source": [
    "cuisine = data.iloc[:,2].values\n",
    "cuisine_count = []\n",
    "len_cuisine = len(cuisine)\n",
    "\n",
    "for i in range(len_cuisine):\n",
    "    cuisine[i] = cuisine[i].split(',')\n",
    "\n",
    "for i in range(len_cuisine):\n",
    "    cuisine_count.append(len(cuisine[i]))\n",
    "\n",
    "cuisine_cnt = np.array(cuisine_count)\n",
    "cuisine_cnt = cuisine_cnt.reshape(cuisine_cnt.shape[0],1)\n",
    "print(cuisine_cnt)"
   ]
  },
  {
   "cell_type": "code",
   "execution_count": 112,
   "metadata": {},
   "outputs": [
    {
     "name": "stdout",
     "output_type": "stream",
     "text": [
      "       Total Features\n",
      "0                   2\n",
      "1                   4\n",
      "2                   2\n",
      "3                   5\n",
      "4                   2\n",
      "...               ...\n",
      "11666               3\n",
      "11667               3\n",
      "11736               2\n",
      "11785               2\n",
      "11794               2\n",
      "\n",
      "[4381 rows x 1 columns]\n"
     ]
    }
   ],
   "source": [
    "feature_counts = pd.DataFrame(feature_cnt,columns=['Total Features'],index =data.index)\n",
    "cuisine_counts = pd.DataFrame(cuisine_cnt,columns=['Total cuisines'],index=data.index)\n",
    "print(feature_counts)\n"
   ]
  },
  {
   "cell_type": "code",
   "execution_count": 113,
   "metadata": {},
   "outputs": [
    {
     "name": "stdout",
     "output_type": "stream",
     "text": [
      "Name of Restaurant       Yaa Mohaideen BriyaniSukkubhai BiriyaniSS Hyde...\n",
      "Location                 PallavaramAlandurKodambakkamPeramburPeramburMe...\n",
      "Cuisine                  [['Biryani'], ['Biryani',  ' North Indian',  '...\n",
      "Price for 2                                                      1909910.0\n",
      "Dining Rating                                                      15172.5\n",
      "Dining Rating Count                                               740216.0\n",
      "Delivery Rating                                                    16815.1\n",
      "Delivery Rating Count                                            7361400.0\n",
      "Features                 [['Home Delivery',  'Indoor Seating'], ['Home ...\n",
      "Total cuisines                                                       12372\n",
      "Total Features                                                       14643\n",
      "dtype: object\n"
     ]
    }
   ],
   "source": [
    "new_data = pd.concat([data,cuisine_counts,feature_counts],axis =1)\n",
    "print(new_data.sum())"
   ]
  },
  {
   "cell_type": "code",
   "execution_count": 114,
   "metadata": {},
   "outputs": [
    {
     "data": {
      "text/plain": [
       "<matplotlib.collections.PathCollection at 0x2558145bdf0>"
      ]
     },
     "execution_count": 114,
     "metadata": {},
     "output_type": "execute_result"
    },
    {
     "data": {
      "image/png": "[encoded data removed]",
      "text/plain": [
       "<Figure size 432x288 with 1 Axes>"
      ]
     },
     "metadata": {
      "needs_background": "light"
     },
     "output_type": "display_data"
    }
   ],
   "source": [
    "plt.scatter(x = new_data['Price for 2'],y=new_data['Dining Rating'],color = 'purple')"
   ]
  },
  {
   "cell_type": "code",
   "execution_count": 115,
   "metadata": {},
   "outputs": [
    {
     "data": {
      "text/plain": [
       "<matplotlib.collections.PathCollection at 0x255826bf100>"
      ]
     },
     "execution_count": 115,
     "metadata": {},
     "output_type": "execute_result"
    },
    {
     "data": {
      "image/png": "[encoded data removed]",
      "text/plain": [
       "<Figure size 432x288 with 1 Axes>"
      ]
     },
     "metadata": {
      "needs_background": "light"
     },
     "output_type": "display_data"
    }
   ],
   "source": [
    "plt.scatter(x = new_data['Price for 2'],y=new_data['Delivery Rating'],color = 'purple')"
   ]
  },
  {
   "cell_type": "code",
   "execution_count": 116,
   "metadata": {},
   "outputs": [
    {
     "data": {
      "text/plain": [
       "<matplotlib.collections.PathCollection at 0x25532a08b80>"
      ]
     },
     "execution_count": 116,
     "metadata": {},
     "output_type": "execute_result"
    },
    {
     "data": {
      "image/png": "[encoded data removed]",
      "text/plain": [
       "<Figure size 432x288 with 1 Axes>"
      ]
     },
     "metadata": {
      "needs_background": "light"
     },
     "output_type": "display_data"
    }
   ],
   "source": [
    "plt.scatter(x = new_data['Total cuisines'],y=new_data['Dining Rating'])"
   ]
  },
  {
   "cell_type": "code",
   "execution_count": 117,
   "metadata": {},
   "outputs": [
    {
     "data": {
      "text/plain": [
       "<matplotlib.collections.PathCollection at 0x255818b9af0>"
      ]
     },
     "execution_count": 117,
     "metadata": {},
     "output_type": "execute_result"
    },
    {
     "data": {
      "image/png": "[encoded data removed]",
      "text/plain": [
       "<Figure size 432x288 with 1 Axes>"
      ]
     },
     "metadata": {
      "needs_background": "light"
     },
     "output_type": "display_data"
    }
   ],
   "source": [
    "plt.scatter(x = new_data['Total cuisines'],y=new_data['Delivery Rating'])"
   ]
  },
  {
   "cell_type": "code",
   "execution_count": 118,
   "metadata": {},
   "outputs": [
    {
     "data": {
      "text/plain": [
       "<matplotlib.collections.PathCollection at 0x2558191ffa0>"
      ]
     },
     "execution_count": 118,
     "metadata": {},
     "output_type": "execute_result"
    },
    {
     "data": {
      "image/png": "[encoded data removed]",
      "text/plain": [
       "<Figure size 432x288 with 1 Axes>"
      ]
     },
     "metadata": {
      "needs_background": "light"
     },
     "output_type": "display_data"
    }
   ],
   "source": [
    "plt.scatter(x = new_data['Total Features'],y=new_data['Dining Rating'],color ='green')"
   ]
  },
  {
   "cell_type": "code",
   "execution_count": 119,
   "metadata": {},
   "outputs": [
    {
     "data": {
      "text/plain": [
       "<matplotlib.collections.PathCollection at 0x255819498e0>"
      ]
     },
     "execution_count": 119,
     "metadata": {},
     "output_type": "execute_result"
    },
    {
     "data": {
      "image/png": "[encoded data removed]",
      "text/plain": [
       "<Figure size 432x288 with 1 Axes>"
      ]
     },
     "metadata": {
      "needs_background": "light"
     },
     "output_type": "display_data"
    }
   ],
   "source": [
    "plt.scatter(x = new_data['Total Features'],y=new_data['Delivery Rating'], color = 'green')"
   ]
  }
 ],
 "metadata": {
  "interpreter": {
   "hash": "b67277703e4e03d4913fd324b008a8c782f8a474d6a5c5bfbeaeadcab747c5e8"
  },
  "kernelspec": {
   "display_name": "Python 3.8.0 64-bit ('tf2.5': conda)",
   "language": "python",
   "name": "python3"
  },
  "language_info": {
   "codemirror_mode": {
    "name": "ipython",
    "version": 3
   },
   "file_extension": ".py",
   "mimetype": "text/x-python",
   "name": "python",
   "nbconvert_exporter": "python",
   "pygments_lexer": "ipython3",
   "version": "3.8.0"
  },
  "orig_nbformat": 4
 },
 "nbformat": 4,
 "nbformat_minor": 2
}
